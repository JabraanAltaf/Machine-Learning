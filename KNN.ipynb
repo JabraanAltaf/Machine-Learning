{
 "cells": [
  {
   "cell_type": "code",
   "execution_count": 1,
   "metadata": {},
   "outputs": [],
   "source": [
    "# Importing pandas and numpy\n",
    "import pandas as pd\n",
    "import numpy as np\n",
    "\n",
    "#Reading in the dataset using pandas\n",
    "df = pd.read_csv('https://archive.ics.uci.edu/ml/machine-learning-databases/haberman/haberman.data',header=None)"
   ]
  },
  {
   "cell_type": "code",
   "execution_count": 2,
   "metadata": {},
   "outputs": [
    {
     "name": "stdout",
     "output_type": "stream",
     "text": [
      "[[30 64  1]\n",
      " [30 62  3]\n",
      " [30 65  0]\n",
      " [31 59  2]\n",
      " [31 65  4]\n",
      " [33 58 10]\n",
      " [33 60  0]\n",
      " [34 59  0]\n",
      " [34 66  9]\n",
      " [34 58 30]\n",
      " [34 60  1]\n",
      " [34 61 10]\n",
      " [34 67  7]\n",
      " [34 60  0]\n",
      " [35 64 13]\n",
      " [35 63  0]\n",
      " [36 60  1]\n",
      " [36 69  0]\n",
      " [37 60  0]\n",
      " [37 63  0]\n",
      " [37 58  0]\n",
      " [37 59  6]\n",
      " [37 60 15]\n",
      " [37 63  0]\n",
      " [38 69 21]\n",
      " [38 59  2]\n",
      " [38 60  0]\n",
      " [38 60  0]\n",
      " [38 62  3]\n",
      " [38 64  1]\n",
      " [38 66  0]\n",
      " [38 66 11]\n",
      " [38 60  1]\n",
      " [38 67  5]\n",
      " [39 66  0]\n",
      " [39 63  0]\n",
      " [39 67  0]\n",
      " [39 58  0]\n",
      " [39 59  2]\n",
      " [39 63  4]\n",
      " [40 58  2]\n",
      " [40 58  0]\n",
      " [40 65  0]\n",
      " [41 60 23]\n",
      " [41 64  0]\n",
      " [41 67  0]\n",
      " [41 58  0]\n",
      " [41 59  8]\n",
      " [41 59  0]\n",
      " [41 64  0]\n",
      " [41 69  8]\n",
      " [41 65  0]\n",
      " [41 65  0]\n",
      " [42 69  1]\n",
      " [42 59  0]\n",
      " [42 58  0]\n",
      " [42 60  1]\n",
      " [42 59  2]\n",
      " [42 61  4]\n",
      " [42 62 20]\n",
      " [42 65  0]\n",
      " [42 63  1]\n",
      " [43 58 52]\n",
      " [43 59  2]\n",
      " [43 64  0]\n",
      " [43 64  0]\n",
      " [43 63 14]\n",
      " [43 64  2]\n",
      " [43 64  3]\n",
      " [43 60  0]\n",
      " [43 63  2]\n",
      " [43 65  0]\n",
      " [43 66  4]\n",
      " [44 64  6]\n",
      " [44 58  9]\n",
      " [44 63 19]\n",
      " [44 61  0]\n",
      " [44 63  1]\n",
      " [44 61  0]\n",
      " [44 67 16]\n",
      " [45 65  6]\n",
      " [45 66  0]\n",
      " [45 67  1]\n",
      " [45 60  0]\n",
      " [45 67  0]\n",
      " [45 59 14]\n",
      " [45 64  0]\n",
      " [45 68  0]\n",
      " [45 67  1]\n",
      " [46 58  2]\n",
      " [46 69  3]\n",
      " [46 62  5]\n",
      " [46 65 20]\n",
      " [46 62  0]\n",
      " [46 58  3]\n",
      " [46 63  0]\n",
      " [47 63 23]\n",
      " [47 62  0]\n",
      " [47 65  0]\n",
      " [47 61  0]\n",
      " [47 63  6]\n",
      " [47 66  0]\n",
      " [47 67  0]\n",
      " [47 58  3]\n",
      " [47 60  4]\n",
      " [47 68  4]\n",
      " [47 66 12]\n",
      " [48 58 11]\n",
      " [48 58 11]\n",
      " [48 67  7]\n",
      " [48 61  8]\n",
      " [48 62  2]\n",
      " [48 64  0]\n",
      " [48 66  0]\n",
      " [49 63  0]\n",
      " [49 64 10]\n",
      " [49 61  1]\n",
      " [49 62  0]\n",
      " [49 66  0]\n",
      " [49 60  1]\n",
      " [49 62  1]\n",
      " [49 63  3]\n",
      " [49 61  0]\n",
      " [49 67  1]\n",
      " [50 63 13]\n",
      " [50 64  0]\n",
      " [50 59  0]\n",
      " [50 61  6]\n",
      " [50 61  0]\n",
      " [50 63  1]\n",
      " [50 58  1]\n",
      " [50 59  2]\n",
      " [50 61  0]\n",
      " [50 64  0]\n",
      " [50 65  4]\n",
      " [50 66  1]\n",
      " [51 59 13]\n",
      " [51 59  3]\n",
      " [51 64  7]\n",
      " [51 59  1]\n",
      " [51 65  0]\n",
      " [51 66  1]\n",
      " [52 69  3]\n",
      " [52 59  2]\n",
      " [52 62  3]\n",
      " [52 66  4]\n",
      " [52 61  0]\n",
      " [52 63  4]\n",
      " [52 69  0]\n",
      " [52 60  4]\n",
      " [52 60  5]\n",
      " [52 62  0]\n",
      " [52 62  1]\n",
      " [52 64  0]\n",
      " [52 65  0]\n",
      " [52 68  0]\n",
      " [53 58  4]\n",
      " [53 65  1]\n",
      " [53 59  3]\n",
      " [53 60  9]\n",
      " [53 63 24]\n",
      " [53 65 12]\n",
      " [53 58  1]\n",
      " [53 60  1]\n",
      " [53 60  2]\n",
      " [53 61  1]\n",
      " [53 63  0]\n",
      " [54 60 11]\n",
      " [54 65 23]\n",
      " [54 65  5]\n",
      " [54 68  7]\n",
      " [54 59  7]\n",
      " [54 60  3]\n",
      " [54 66  0]\n",
      " [54 67 46]\n",
      " [54 62  0]\n",
      " [54 69  7]\n",
      " [54 63 19]\n",
      " [54 58  1]\n",
      " [54 62  0]\n",
      " [55 63  6]\n",
      " [55 68 15]\n",
      " [55 58  1]\n",
      " [55 58  0]\n",
      " [55 58  1]\n",
      " [55 66 18]\n",
      " [55 66  0]\n",
      " [55 69  3]\n",
      " [55 69 22]\n",
      " [55 67  1]\n",
      " [56 65  9]\n",
      " [56 66  3]\n",
      " [56 60  0]\n",
      " [56 66  2]\n",
      " [56 66  1]\n",
      " [56 67  0]\n",
      " [56 60  0]\n",
      " [57 61  5]\n",
      " [57 62 14]\n",
      " [57 64  1]\n",
      " [57 64  9]\n",
      " [57 69  0]\n",
      " [57 61  0]\n",
      " [57 62  0]\n",
      " [57 63  0]\n",
      " [57 64  0]\n",
      " [57 64  0]\n",
      " [57 67  0]\n",
      " [58 59  0]\n",
      " [58 60  3]\n",
      " [58 61  1]\n",
      " [58 67  0]\n",
      " [58 58  0]\n",
      " [58 58  3]\n",
      " [58 61  2]\n",
      " [59 62 35]\n",
      " [59 60  0]\n",
      " [59 63  0]\n",
      " [59 64  1]\n",
      " [59 64  4]\n",
      " [59 64  0]\n",
      " [59 64  7]\n",
      " [59 67  3]\n",
      " [60 59 17]\n",
      " [60 65  0]\n",
      " [60 61  1]\n",
      " [60 67  2]\n",
      " [60 61 25]\n",
      " [60 64  0]\n",
      " [61 62  5]\n",
      " [61 65  0]\n",
      " [61 68  1]\n",
      " [61 59  0]\n",
      " [61 59  0]\n",
      " [61 64  0]\n",
      " [61 65  8]\n",
      " [61 68  0]\n",
      " [61 59  0]\n",
      " [62 59 13]\n",
      " [62 58  0]\n",
      " [62 65 19]\n",
      " [62 62  6]\n",
      " [62 66  0]\n",
      " [62 66  0]\n",
      " [62 58  0]\n",
      " [63 60  1]\n",
      " [63 61  0]\n",
      " [63 62  0]\n",
      " [63 63  0]\n",
      " [63 63  0]\n",
      " [63 66  0]\n",
      " [63 61  9]\n",
      " [63 61 28]\n",
      " [64 58  0]\n",
      " [64 65 22]\n",
      " [64 66  0]\n",
      " [64 61  0]\n",
      " [64 68  0]\n",
      " [65 58  0]\n",
      " [65 61  2]\n",
      " [65 62 22]\n",
      " [65 66 15]\n",
      " [65 58  0]\n",
      " [65 64  0]\n",
      " [65 67  0]\n",
      " [65 59  2]\n",
      " [65 64  0]\n",
      " [65 67  1]\n",
      " [66 58  0]\n",
      " [66 61 13]\n",
      " [66 58  0]\n",
      " [66 58  1]\n",
      " [66 68  0]\n",
      " [67 64  8]\n",
      " [67 63  1]\n",
      " [67 66  0]\n",
      " [67 66  0]\n",
      " [67 61  0]\n",
      " [67 65  0]\n",
      " [68 67  0]\n",
      " [68 68  0]\n",
      " [69 67  8]\n",
      " [69 60  0]\n",
      " [69 65  0]\n",
      " [69 66  0]\n",
      " [70 58  0]\n",
      " [70 58  4]\n",
      " [70 66 14]\n",
      " [70 67  0]\n",
      " [70 68  0]\n",
      " [70 59  8]\n",
      " [70 63  0]\n",
      " [71 68  2]\n",
      " [72 63  0]\n",
      " [72 58  0]\n",
      " [72 64  0]\n",
      " [72 67  3]\n",
      " [73 62  0]\n",
      " [73 68  0]\n",
      " [74 65  3]\n",
      " [74 63  0]\n",
      " [75 62  1]\n",
      " [76 67  0]\n",
      " [77 65  3]\n",
      " [78 65  1]\n",
      " [83 58  2]]\n"
     ]
    }
   ],
   "source": [
    "# Assigning values of features and responses to X and y\n",
    "X,y = df.values[:,:3] ,df.values[:, 3] \n",
    "\n",
    "\n",
    "print (X)"
   ]
  },
  {
   "cell_type": "code",
   "execution_count": 3,
   "metadata": {},
   "outputs": [
    {
     "name": "stdout",
     "output_type": "stream",
     "text": [
      "(306, 3)\n"
     ]
    }
   ],
   "source": [
    "#  Print shape of X\n",
    "print (X.shape)"
   ]
  },
  {
   "cell_type": "code",
   "execution_count": 4,
   "metadata": {},
   "outputs": [
    {
     "name": "stdout",
     "output_type": "stream",
     "text": [
      "(306,)\n"
     ]
    }
   ],
   "source": [
    "# Print shape of y\n",
    "print(y.shape)"
   ]
  },
  {
   "cell_type": "code",
   "execution_count": 5,
   "metadata": {},
   "outputs": [],
   "source": [
    "# Imports KNN Algorithm, training/testing split function and metrics\n",
    "from sklearn.neighbors import KNeighborsClassifier\n",
    "from sklearn.model_selection import train_test_split\n",
    "\n",
    "from sklearn import metrics\n",
    "\n"
   ]
  },
  {
   "cell_type": "code",
   "execution_count": 6,
   "metadata": {},
   "outputs": [
    {
     "name": "stdout",
     "output_type": "stream",
     "text": [
      "(183, 3)\n",
      "(123, 3)\n"
     ]
    }
   ],
   "source": [
    "# Splitting data into training set and test set using size of 0.4 - 40% for testing, 60% for training.\n",
    "from sklearn.model_selection import train_test_split\n",
    "X_train, X_test, y_train, y_test = train_test_split(X, y, test_size=0.4, random_state=4)\n",
    "\n",
    "# Prints shape of the training and testing set for X values\n",
    "print(X_train.shape)\n",
    "print(X_test.shape)"
   ]
  },
  {
   "cell_type": "code",
   "execution_count": 7,
   "metadata": {},
   "outputs": [
    {
     "name": "stdout",
     "output_type": "stream",
     "text": [
      "(183,)\n",
      "(123,)\n"
     ]
    }
   ],
   "source": [
    "#Printing shape of training and testing set for y values\n",
    "\n",
    "print(y_train.shape)\n",
    "print(y_test.shape)"
   ]
  },
  {
   "cell_type": "code",
   "execution_count": 8,
   "metadata": {},
   "outputs": [],
   "source": [
    "# Iterate through range of k= 1 to k= 90 and do KNN algorithm to predict on testing set. Add accuracy score of KNN algorithm for each\n",
    "k_range = list(range(1, 90))\n",
    "scores = [] # Array where accuracy scores will be added for each k value\n",
    "for k in k_range:\n",
    "    knn = KNeighborsClassifier(n_neighbors=k) # Initializes KNN algorithm \n",
    "    knn.fit(X_train, y_train) # Fits model with training data set\n",
    "    y_pred = knn.predict(X_test) # Makes prediction on testing data set\n",
    "    scores.append(metrics.accuracy_score(y_test, y_pred)) #Adds accuracy value of K value used to scores array"
   ]
  },
  {
   "cell_type": "code",
   "execution_count": 9,
   "metadata": {},
   "outputs": [
    {
     "name": "stdout",
     "output_type": "stream",
     "text": [
      "[0.6422764227642277, 0.7642276422764228, 0.7560975609756098, 0.7479674796747967, 0.7642276422764228, 0.7886178861788617, 0.7642276422764228, 0.8211382113821138, 0.7804878048780488, 0.7886178861788617, 0.7723577235772358, 0.7886178861788617, 0.7804878048780488, 0.7886178861788617, 0.7804878048780488, 0.7886178861788617, 0.7804878048780488, 0.7804878048780488, 0.7804878048780488, 0.7886178861788617, 0.7886178861788617, 0.7967479674796748, 0.7967479674796748, 0.7967479674796748, 0.7967479674796748, 0.8048780487804879, 0.8048780487804879, 0.7967479674796748, 0.7886178861788617, 0.7967479674796748, 0.7886178861788617, 0.7967479674796748, 0.7967479674796748, 0.7886178861788617, 0.7886178861788617, 0.7886178861788617, 0.7886178861788617, 0.7886178861788617, 0.7886178861788617, 0.7804878048780488, 0.7886178861788617, 0.7804878048780488, 0.7804878048780488, 0.7804878048780488, 0.7804878048780488, 0.7723577235772358, 0.7804878048780488, 0.7804878048780488, 0.7804878048780488, 0.7723577235772358, 0.7723577235772358, 0.7723577235772358, 0.7723577235772358, 0.7723577235772358, 0.7723577235772358, 0.7804878048780488, 0.7804878048780488, 0.7804878048780488, 0.7804878048780488, 0.7642276422764228, 0.7723577235772358, 0.7642276422764228, 0.7642276422764228, 0.7642276422764228, 0.7642276422764228, 0.7723577235772358, 0.7723577235772358, 0.7723577235772358, 0.7723577235772358, 0.7723577235772358, 0.7723577235772358, 0.7723577235772358, 0.7723577235772358, 0.7723577235772358, 0.7723577235772358, 0.7723577235772358, 0.7723577235772358, 0.7723577235772358, 0.7723577235772358, 0.7723577235772358, 0.7723577235772358, 0.7723577235772358, 0.7723577235772358, 0.7723577235772358, 0.7723577235772358, 0.7723577235772358, 0.7723577235772358, 0.7723577235772358, 0.7723577235772358]\n",
      "8\n"
     ]
    }
   ],
   "source": [
    "print (scores)\n",
    "# Finds location of where best score is\n",
    "m = max(scores)\n",
    "best_k = scores.index(max(scores)) + 1 #Plus 1 to account for index starting from 0\n",
    "print (best_k)"
   ]
  },
  {
   "cell_type": "code",
   "execution_count": 10,
   "metadata": {},
   "outputs": [
    {
     "data": {
      "text/plain": [
       "Text(0,0.5,'Accuracy')"
      ]
     },
     "execution_count": 10,
     "metadata": {},
     "output_type": "execute_result"
    },
    {
     "data": {
      "image/png": "[encoded data removed]",
      "text/plain": [
       "<Figure size 432x288 with 1 Axes>"
      ]
     },
     "metadata": {},
     "output_type": "display_data"
    }
   ],
   "source": [
    "# Plotting the relationship between K and testing accuracy\n",
    "import matplotlib.pyplot as plt\n",
    "\n",
    "%matplotlib inline\n",
    "\n",
    "plt.plot(k_range, scores)\n",
    "plt.xlabel('Value of K for KNN')\n",
    "plt.ylabel('Accuracy')"
   ]
  },
  {
   "cell_type": "code",
   "execution_count": 1,
   "metadata": {},
   "outputs": [
    {
     "ename": "NameError",
     "evalue": "name 'KNeighborsClassifier' is not defined",
     "output_type": "error",
     "traceback": [
      "\u001b[1;31m---------------------------------------------------------------------------\u001b[0m",
      "\u001b[1;31mNameError\u001b[0m                                 Traceback (most recent call last)",
      "\u001b[1;32m<ipython-input-1-f9f1845cb11b>\u001b[0m in \u001b[0;36m<module>\u001b[1;34m()\u001b[0m\n\u001b[0;32m      1\u001b[0m \u001b[1;31m# Doing the KNN Algorithm using the best K value, as found above\u001b[0m\u001b[1;33m\u001b[0m\u001b[1;33m\u001b[0m\u001b[0m\n\u001b[1;32m----> 2\u001b[1;33m \u001b[0mknn\u001b[0m \u001b[1;33m=\u001b[0m \u001b[0mKNeighborsClassifier\u001b[0m\u001b[1;33m(\u001b[0m\u001b[0mn_neighbors\u001b[0m\u001b[1;33m=\u001b[0m\u001b[0mbest_k\u001b[0m\u001b[1;33m)\u001b[0m\u001b[1;33m\u001b[0m\u001b[0m\n\u001b[0m\u001b[0;32m      3\u001b[0m \u001b[0mknn\u001b[0m\u001b[1;33m.\u001b[0m\u001b[0mfit\u001b[0m\u001b[1;33m(\u001b[0m\u001b[0mX_train\u001b[0m\u001b[1;33m,\u001b[0m \u001b[0my_train\u001b[0m\u001b[1;33m)\u001b[0m \u001b[1;31m# Fiting model with training data\u001b[0m\u001b[1;33m\u001b[0m\u001b[0m\n\u001b[0;32m      4\u001b[0m \u001b[1;31m# Making prediction on testing set\u001b[0m\u001b[1;33m\u001b[0m\u001b[1;33m\u001b[0m\u001b[0m\n\u001b[0;32m      5\u001b[0m \u001b[0my_pred\u001b[0m \u001b[1;33m=\u001b[0m \u001b[0mknn\u001b[0m\u001b[1;33m.\u001b[0m\u001b[0mpredict\u001b[0m\u001b[1;33m(\u001b[0m\u001b[0mX_test\u001b[0m\u001b[1;33m)\u001b[0m\u001b[1;33m\u001b[0m\u001b[0m\n",
      "\u001b[1;31mNameError\u001b[0m: name 'KNeighborsClassifier' is not defined"
     ]
    }
   ],
   "source": [
    "# Doing the KNN Algorithm using the best K value, as found above\n",
    "knn = KNeighborsClassifier(n_neighbors=best_k)\n",
    "knn.fit(X_train, y_train) # Fiting model with training data\n",
    "# Making prediction on testing set\n",
    "y_pred = knn.predict(X_test)\n",
    "\n",
    "#Comparing actual value response value(y_test) and predicted response value (y_pred)\n",
    "print(metrics.accuracy_score(y_test, y_pred))"
   ]
  },
  {
   "cell_type": "code",
   "execution_count": 12,
   "metadata": {},
   "outputs": [
    {
     "name": "stdout",
     "output_type": "stream",
     "text": [
      "[[95  0]\n",
      " [22  6]]\n"
     ]
    }
   ],
   "source": [
    "# Making a confusion matrix using actual response and predicted response values\n",
    "y = metrics.confusion_matrix(y_test, y_pred)\n",
    "\n",
    "# Initliazing values from matrix to variables\n",
    "TP = y[0,0] # True Positive \n",
    "FN = y[1,0] # False Negative\n",
    "\n",
    "FP = y[0,1] # False Positive\n",
    "TN = y[1,1] # True Negative\n",
    "\n",
    "# Printing out the Confusion Matrix\n",
    "print (y)"
   ]
  },
  {
   "cell_type": "code",
   "execution_count": 13,
   "metadata": {},
   "outputs": [],
   "source": [
    "# Working out the accuracy score\n",
    "accuracy =  ((TN + TP)/(TN + FN + FP + TP))\n",
    "# Working out the error\n",
    "error = 1 - accuracy\n",
    "# True Positive Rate (Recall or Sensitivity)\n",
    "true = TP/(TP + FN)\n",
    "# False Positive Rate (Precision)\n",
    "false = (TP/(FP + TP))"
   ]
  },
  {
   "cell_type": "code",
   "execution_count": 14,
   "metadata": {},
   "outputs": [
    {
     "name": "stdout",
     "output_type": "stream",
     "text": [
      "Accuracy Score: 0.8211382113821138\n",
      "Error: 0.17886178861788615\n",
      "True Positive: 0.811965811965812\n",
      "False Positive: 1.0\n"
     ]
    }
   ],
   "source": [
    "# Printing out the results from above\n",
    "print (\"Accuracy Score:\", accuracy)\n",
    "print (\"Error:\", error)\n",
    "print (\"True Positive:\", true)\n",
    "print(\"False Positive:\", false)"
   ]
  },
  {
   "cell_type": "code",
   "execution_count": null,
   "metadata": {},
   "outputs": [],
   "source": [
    "\n"
   ]
  },
  {
   "cell_type": "code",
   "execution_count": null,
   "metadata": {},
   "outputs": [],
   "source": []
  }
 ],
 "metadata": {
  "kernelspec": {
   "display_name": "Python 3",
   "language": "python",
   "name": "python3"
  },
  "language_info": {
   "codemirror_mode": {
    "name": "ipython",
    "version": 3
   },
   "file_extension": ".py",
   "mimetype": "text/x-python",
   "name": "python",
   "nbconvert_exporter": "python",
   "pygments_lexer": "ipython3",
   "version": "3.6.5"
  }
 },
 "nbformat": 4,
 "nbformat_minor": 2
}
