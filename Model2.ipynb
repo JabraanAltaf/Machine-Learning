{
 "cells": [
  {
   "cell_type": "code",
   "execution_count": 7,
   "metadata": {},
   "outputs": [],
   "source": [
    "# Importing the necessary functions\n",
    "import keras\n",
    "from keras.models import Sequential\n",
    "from keras.layers import Dense, Conv2D, MaxPooling2D, Flatten, Activation\n",
    "from keras.utils import to_categorical\n",
    "from keras.layers.normalization import BatchNormalization\n",
    "from keras.optimizers import RMSprop\n",
    "\n",
    "from keras.backend import eval\n",
    "\n",
    "import numpy as np\n",
    "import matplotlib.pyplot as plt"
   ]
  },
  {
   "cell_type": "code",
   "execution_count": 2,
   "metadata": {},
   "outputs": [],
   "source": [
    "# Loading in the  MNIST Data set\n",
    "from keras.datasets import mnist\n",
    "(x_train, y_train), (x_test, y_test) = mnist.load_data()\n",
    "\n",
    "#Reshaping data set\n",
    "x_train = x_train.reshape(-1,28,28,1)\n",
    "x_test = x_test.reshape(-1,28,28,1)#\n",
    "\n",
    "# Dividing each picture by their pixels\n",
    "x_train = x_train/255\n",
    "x_test = x_test/255\n",
    "# Converting values to floats\n",
    "x_train = x_train.astype('float32')\n",
    "x_test = x_test.astype('float32')\n",
    "# Representing categorical variables as binary vectors\n",
    "y_train_one_hot = to_categorical(y_train)\n",
    "y_test_one_hot = to_categorical(y_test)"
   ]
  },
  {
   "cell_type": "code",
   "execution_count": 3,
   "metadata": {},
   "outputs": [
    {
     "name": "stdout",
     "output_type": "stream",
     "text": [
      "Shape of Training set:  (60000, 28, 28, 1)\n",
      "Shape of Test set:  (10000, 28, 28, 1)\n",
      "Total number of classes:  10\n",
      "Output classes :  [0 1 2 3 4 5 6 7 8 9]\n"
     ]
    }
   ],
   "source": [
    "# Printing details of the dataset\n",
    "print(\"Shape of Training set: \", x_train.shape)\n",
    "print (\"Shape of Test set: \", x_test.shape)\n",
    "# Displaying the number of unique classes\n",
    "classes = np.unique(y_train)\n",
    "numClasses = len(classes)\n",
    "print('Total number of classes: ', numClasses)\n",
    "print('Output classes : ', classes)"
   ]
  },
  {
   "cell_type": "code",
   "execution_count": 4,
   "metadata": {},
   "outputs": [],
   "source": [
    "# Making the model sequential as it's a Convolutional Neural Network\n",
    "model = Sequential()\n",
    "# Convolutional Layer which uses 6 neurons with a 3x3 filter matrix, taking in a input image of 28 x 28 pixels \n",
    "model.add(Conv2D(6, (3,3), input_shape= (28,28,1)))\n",
    "model.add(Activation('relu')) # Using rectified linear activation\n",
    "model.add(MaxPooling2D(pool_size=(2,2))) # Adding a max pooling layer\n",
    "model.add(BatchNormalization()) # Bath normalization\n",
    "\n",
    "# Hidden Convolutional Layer follows as above but takes in 16 neurons and applies a MaxPooling layer and Batch Normalization\n",
    "model.add(Conv2D(16, (3,3)))\n",
    "model.add(Activation('relu'))\n",
    "model.add(MaxPooling2D(pool_size=(2, 2)))\n",
    "model.add(BatchNormalization())\n",
    "\n",
    "#Another Hidden Convolutional Layer which uses 120 neurons and applies a MaxPooling Layer and Batch Normalization\n",
    "model.add(Conv2D(120, (3,3)))\n",
    "model.add(Activation('relu'))\n",
    "model.add(MaxPooling2D(pool_size=(2, 2)))\n",
    "model.add(BatchNormalization())\n",
    "\n",
    "#Flattens and denses model in to 1 dimension and uses the rectified linear activation\n",
    "model.add(Flatten())\n",
    "model.add(Dense(84))\n",
    "model.add(Activation('relu')) \n",
    "# Final output layer which applies a softmax activation\n",
    "model.add(Dense(10))\n",
    "model.add(Activation('softmax'))"
   ]
  },
  {
   "cell_type": "code",
   "execution_count": 5,
   "metadata": {},
   "outputs": [
    {
     "name": "stdout",
     "output_type": "stream",
     "text": [
      "Epoch 1/5\n",
      "60000/60000 [==============================] - 45s 750us/step - loss: 0.1713 - acc: 0.9486\n",
      "Epoch 2/5\n",
      "60000/60000 [==============================] - 44s 734us/step - loss: 0.0724 - acc: 0.9776\n",
      "Epoch 3/5\n",
      "60000/60000 [==============================] - 44s 736us/step - loss: 0.0541 - acc: 0.9831\n",
      "Epoch 4/5\n",
      "60000/60000 [==============================] - 45s 756us/step - loss: 0.0414 - acc: 0.9864\n",
      "Epoch 5/5\n",
      "60000/60000 [==============================] - 44s 730us/step - loss: 0.0360 - acc: 0.9884\n"
     ]
    },
    {
     "data": {
      "text/plain": [
       "<keras.callbacks.History at 0x272b0d2cbe0>"
      ]
     },
     "execution_count": 5,
     "metadata": {},
     "output_type": "execute_result"
    }
   ],
   "source": [
    "# Compiling the model with the RMSprop optimizer and using the metric accuracy\n",
    "model.compile(loss=keras.losses.categorical_crossentropy,\n",
    "              optimizer=keras.optimizers.RMSprop(lr=0.001, rho=0.9, epsilon=None, decay=0.0),\n",
    "              metrics=['accuracy'])\n",
    "# Training the model with the a batch size of 64 using 5 epochs\n",
    "model.fit(x_train,y_train_one_hot, batch_size=64, epochs=5)"
   ]
  },
  {
   "cell_type": "code",
   "execution_count": 8,
   "metadata": {},
   "outputs": [
    {
     "name": "stdout",
     "output_type": "stream",
     "text": [
      "10000/10000 [==============================] - 4s 383us/step\n",
      "Accuracy:  0.9843\n",
      "Loss:  0.06169644869852054\n",
      "Learning Rate:  0.001\n"
     ]
    }
   ],
   "source": [
    "# Outputting the accuracy and error loss of our model\n",
    "loss,accuracy = model.evaluate(x_test, y_test_one_hot)\n",
    "print(\"Accuracy: \", accuracy)\n",
    "print (\"Loss: \", loss)\n",
    "# Outputting the learning rate of our model\n",
    "lrate = eval(model.optimizer.lr)\n",
    "print(\"Learning Rate: \", lrate)"
   ]
  },
  {
   "cell_type": "code",
   "execution_count": 9,
   "metadata": {},
   "outputs": [
    {
     "data": {
      "image/png": "[encoded data removed]",
      "text/plain": [
       "<Figure size 432x288 with 1 Axes>"
      ]
     },
     "metadata": {
      "needs_background": "light"
     },
     "output_type": "display_data"
    }
   ],
   "source": [
    "#Displaying an image from out test data set\n",
    "plt.imshow(x_test[15].reshape(28,28), cmap = plt.cm.binary)\n",
    "plt.show()"
   ]
  },
  {
   "cell_type": "code",
   "execution_count": 10,
   "metadata": {},
   "outputs": [
    {
     "name": "stdout",
     "output_type": "stream",
     "text": [
      "5\n"
     ]
    }
   ],
   "source": [
    "# Predicting what number the image is using our model\n",
    "prediction = model.predict(x_test)\n",
    "print(np.argmax(np.round(prediction[15])))"
   ]
  },
  {
   "cell_type": "code",
   "execution_count": 11,
   "metadata": {},
   "outputs": [
    {
     "data": {
      "image/png": "[encoded data removed]",
      "text/plain": [
       "<Figure size 432x288 with 1 Axes>"
      ]
     },
     "metadata": {
      "needs_background": "light"
     },
     "output_type": "display_data"
    }
   ],
   "source": [
    "#Displaying an image from out test data set\n",
    "plt.imshow(x_test[0].reshape(28,28), cmap = plt.cm.binary)\n",
    "plt.show()"
   ]
  },
  {
   "cell_type": "code",
   "execution_count": 12,
   "metadata": {},
   "outputs": [
    {
     "name": "stdout",
     "output_type": "stream",
     "text": [
      "7\n"
     ]
    }
   ],
   "source": [
    "# Predicting what number the image is using our model\n",
    "prediction = model.predict(x_test)\n",
    "print(np.argmax(np.round(prediction[0])))"
   ]
  }
 ],
 "metadata": {
  "kernelspec": {
   "display_name": "Python 3",
   "language": "python",
   "name": "python3"
  },
  "language_info": {
   "codemirror_mode": {
    "name": "ipython",
    "version": 3
   },
   "file_extension": ".py",
   "mimetype": "text/x-python",
   "name": "python",
   "nbconvert_exporter": "python",
   "pygments_lexer": "ipython3",
   "version": "3.6.7"
  }
 },
 "nbformat": 4,
 "nbformat_minor": 2
}
